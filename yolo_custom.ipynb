{
 "cells": [
  {
   "cell_type": "code",
   "execution_count": 3,
   "metadata": {},
   "outputs": [],
   "source": [
    "import os\n",
    "from ultralytics import YOLO\n",
    "import cv2\n",
    "import json"
   ]
  },
  {
   "cell_type": "code",
   "execution_count": null,
   "metadata": {},
   "outputs": [],
   "source": [
    "model=YOLO(\"yolov8n.pt\")\n",
    "results=model.train(data=os.path.join(dataset,\"config.yaml\"),epoch=20)\n"
   ]
  },
  {
   "cell_type": "code",
   "execution_count": 1,
   "metadata": {},
   "outputs": [],
   "source": [
    "import albumentations as alb\n",
    "augmentor=alb.Compose([alb.RandomCrop(width=450,height=450),\n",
    "                       alb.HorizontalFlip(p=0.5),\n",
    "                       alb.RandomBrightnessContrast(p=0.2),\n",
    "                       alb.RandomGamma(p=0.2),\n",
    "                       alb.RGBShift(p=0.2),alb.VerticalFlip(p=0.5)],\n",
    "                       bbox_params=alb.BboxParams(format='yolo',label_fields=['class_labels'])) "
   ]
  },
  {
   "cell_type": "code",
   "execution_count": null,
   "metadata": {},
   "outputs": [],
   "source": []
  },
  {
   "cell_type": "code",
   "execution_count": 1,
   "metadata": {},
   "outputs": [
    {
     "name": "stdout",
     "output_type": "stream",
     "text": [
      "x_center: 0.35444444444444445\n",
      "y_center: 0.11580246913580244\n",
      "width: 0.8927160493827161\n",
      "height: 0.808395061728395\n"
     ]
    }
   ],
   "source": [
    "import json\n",
    "\n",
    "# Assuming your JSON data is stored in a variable called 'data'\n",
    "data = {\"image\": \"9aea21ee-e440-11ee-b00d-346f24e53546.jpg\", \"bbox\": [0.35444444444444445, 0.11580246913580244, 0.8927160493827161, 0.808395061728395], \"class\": 1}\n",
    "\n",
    "# Access the bounding box coordinates\n",
    "bbox = data[\"bbox\"]\n",
    "\n",
    "# Print the coordinates for clarity\n",
    "print(\"x_center:\", bbox[0])\n",
    "print(\"y_center:\", bbox[1])\n",
    "print(\"width:\", bbox[2])\n",
    "print(\"height:\", bbox[3])\n"
   ]
  },
  {
   "cell_type": "code",
   "execution_count": null,
   "metadata": {},
   "outputs": [],
   "source": []
  }
 ],
 "metadata": {
  "kernelspec": {
   "display_name": "py310",
   "language": "python",
   "name": "python3"
  },
  "language_info": {
   "codemirror_mode": {
    "name": "ipython",
    "version": 3
   },
   "file_extension": ".py",
   "mimetype": "text/x-python",
   "name": "python",
   "nbconvert_exporter": "python",
   "pygments_lexer": "ipython3",
   "version": "3.10.13"
  }
 },
 "nbformat": 4,
 "nbformat_minor": 2
}
