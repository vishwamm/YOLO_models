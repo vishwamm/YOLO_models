{
 "cells": [
  {
   "cell_type": "code",
   "execution_count": 1,
   "metadata": {},
   "outputs": [
    {
     "name": "stdout",
     "output_type": "stream",
     "text": [
      "\n",
      "0: 224x224 jinrikisha 0.25, trolleybus 0.22, neck_brace 0.06, bicycle-built-for-two 0.06, horse_cart 0.03, 25.9ms\n",
      "Speed: 4.0ms preprocess, 25.9ms inference, 1.0ms postprocess per image at shape (1, 3, 224, 224)\n"
     ]
    }
   ],
   "source": [
    "import cv2\n",
    "from ultralytics import YOLO\n",
    "model=YOLO('yolov8n-cls.pt')\n",
    "video_path=\"fays.jpeg\"\n",
    "cap=cv2.VideoCapture(video_path)\n",
    "while cap.isOpened():\n",
    "    success,frame=cap.read()\n",
    "    if success:\n",
    "        results=model(frame)\n",
    "        annotated_frame=results[0].plot()\n",
    "        cv2.imshow(\"YOLO Inference\",annotated_frame)\n",
    "        if cv2.waitKey(1) & 0xFF == ord('q'):\n",
    "            break\n",
    "    else:\n",
    "        break\n",
    "cap.release()\n",
    "cv2.destroyAllWindows()"
   ]
  },
  {
   "cell_type": "code",
   "execution_count": null,
   "metadata": {},
   "outputs": [],
   "source": []
  }
 ],
 "metadata": {
  "kernelspec": {
   "display_name": "py310",
   "language": "python",
   "name": "python3"
  },
  "language_info": {
   "codemirror_mode": {
    "name": "ipython",
    "version": 3
   },
   "file_extension": ".py",
   "mimetype": "text/x-python",
   "name": "python",
   "nbconvert_exporter": "python",
   "pygments_lexer": "ipython3",
   "version": "3.10.13"
  }
 },
 "nbformat": 4,
 "nbformat_minor": 2
}
